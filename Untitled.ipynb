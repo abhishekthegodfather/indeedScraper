{
 "cells": [
  {
   "cell_type": "code",
   "execution_count": 158,
   "id": "b01b8b23",
   "metadata": {},
   "outputs": [],
   "source": [
    "from selenium import webdriver\n",
    "from selenium.webdriver.common.by import By\n",
    "from selenium.webdriver.common.keys import Keys\n",
    "import time\n",
    "import pandas as pd"
   ]
  },
  {
   "cell_type": "code",
   "execution_count": 159,
   "id": "b359731c",
   "metadata": {},
   "outputs": [
    {
     "name": "stderr",
     "output_type": "stream",
     "text": [
      "C:\\Users\\abhis\\AppData\\Local\\Temp/ipykernel_27272/4195303648.py:1: DeprecationWarning: executable_path has been deprecated, please pass in a Service object\n",
      "  driver = webdriver.Firefox(executable_path=r'C:\\Users\\abhis\\OneDrive\\Desktop\\scrapping_python\\linkedin_scarp\\geckodriver.exe')\n"
     ]
    }
   ],
   "source": [
    "driver = webdriver.Firefox(executable_path=r'C:\\Users\\abhis\\OneDrive\\Desktop\\scrapping_python\\linkedin_scarp\\geckodriver.exe')\n",
    "driver.get('https://in.indeed.com/')"
   ]
  },
  {
   "cell_type": "code",
   "execution_count": 160,
   "id": "d223bc79",
   "metadata": {},
   "outputs": [],
   "source": [
    "search = driver.find_element(By.ID, \"text-input-what\")\n",
    "search.send_keys(\"Analyst\")"
   ]
  },
  {
   "cell_type": "code",
   "execution_count": 161,
   "id": "800cf7aa",
   "metadata": {},
   "outputs": [],
   "source": [
    "sbtBtn = driver.find_element(By.CLASS_NAME, \"yosegi-InlineWhatWhere-primaryButton\")\n",
    "sbtBtn.click()"
   ]
  },
  {
   "cell_type": "code",
   "execution_count": 162,
   "id": "dd478956",
   "metadata": {},
   "outputs": [
    {
     "name": "stdout",
     "output_type": "stream",
     "text": [
      "['Operations Analyst', 'Operations Analyst - Lead', 'Analyst', 'Senior Data Analyst', 'Senior Business Intelligence Analyst', 'International Product Analyst - India', 'Quality Analyst', 'Data Analyst', 'Data Analyst', 'Quality Analyst', 'Data Analyst - IAU', 'Analyst ATR', 'Supply Chain Analyst 2', 'Research Analyst', 'Data Analyst - Power BI']\n"
     ]
    }
   ],
   "source": [
    "RoleName = driver.find_elements(By.CSS_SELECTOR, \"a.jcs-JobTitle\")\n",
    "name_Role = []\n",
    "for i in RoleName:\n",
    "    i = i.text\n",
    "    name_Role.append(i)\n",
    "print(name_Role)"
   ]
  },
  {
   "cell_type": "code",
   "execution_count": 163,
   "id": "1a66d60e",
   "metadata": {},
   "outputs": [
    {
     "name": "stdout",
     "output_type": "stream",
     "text": [
      "['Indeed', 'Indeed', 'Infosys Limited', 'Indeed', 'Indeed', 'UST Global', 'Maersk', 'Maruti Suzuki India Ltd', 'Maersk', 'Oracle', 'ken Research', 'Advance Auto Parts']\n"
     ]
    }
   ],
   "source": [
    "CompanyName = driver.find_elements(By.CSS_SELECTOR, \"span.companyName>a.turnstileLink\")\n",
    "name_Company = []\n",
    "for i in CompanyName:\n",
    "    i = i.text\n",
    "    name_Company.append(i)\n",
    "print(name_Company)"
   ]
  },
  {
   "cell_type": "code",
   "execution_count": 164,
   "id": "d356c5c9",
   "metadata": {},
   "outputs": [
    {
     "name": "stdout",
     "output_type": "stream",
     "text": [
      "['Hyderabad, Telangana', 'Hyderabad, Telangana', 'Bengaluru, Karnataka', 'Bengaluru, Karnataka', 'Hyderabad, Telangana', 'Hyderabad, Telangana', 'Kolkata, West Bengal\\n+1 location', 'Bengaluru, Karnataka\\n+1 location', 'Chennai, Tamil Nadu', 'Kolkata, West Bengal\\n+2 locations', 'Gurgaon, Haryana', 'Pune, Maharashtra', 'Bengaluru, Karnataka\\n+1 location', 'Gurgaon, Haryana', 'Hyderabad, Telangana']\n"
     ]
    }
   ],
   "source": [
    "CompanyLocation = driver.find_elements(By.CSS_SELECTOR, \"div.companyLocation\")\n",
    "loc_Company = []\n",
    "for i in CompanyLocation:\n",
    "    i = i.text\n",
    "    loc_Company.append(i)\n",
    "print(loc_Company)"
   ]
  },
  {
   "cell_type": "code",
   "execution_count": 165,
   "id": "a02b443a",
   "metadata": {},
   "outputs": [
    {
     "name": "stdout",
     "output_type": "stream",
     "text": [
      "['4.3', '4.3', '3.9', '4.3', '4.3', '3.7', '4.1', '4.1', '4.1', '3.8', '3.7', '3.4']\n"
     ]
    }
   ],
   "source": [
    "CompanyRating = driver.find_elements(By.CSS_SELECTOR, \"span.ratingNumber\")\n",
    "rat_Company = []\n",
    "for i in CompanyRating:\n",
    "    i = i.text\n",
    "    rat_Company.append(i)\n",
    "print(rat_Company)"
   ]
  },
  {
   "cell_type": "code",
   "execution_count": 166,
   "id": "6967a858",
   "metadata": {},
   "outputs": [
    {
     "name": "stdout",
     "output_type": "stream",
     "text": [
      "['In this role as an Operations Analyst, you’ll support the Indeed Revenue Systems platform. You’ll be responsible for responding to internal customer requests,…', 'In this role as an Operations Analyst Lead, you’ll support our Indeed Revenue Systems platform. You’ll be responsible for responding to internal customer…', 'A day in the life of an Infoscion • As part of the Infosys delivery team, your primary role would be to ensure effective Design, Development, Validation and…', 'Work on the development of the PropellerAds product: conduct exploratory analysis - put forward hypotheses, select metrics, and conduct research and experiments…', 'We expect you to aid various teams in drawing insight from our data. Become a subject matter expert and trusted partner supporting our internal Product…', 'We are hiring someone who has experience with web or tech products, loves to analyze numbers, and has comprehensive knowledge of the India market.', 'Total work: 1 year (Preferred).', 'The job applicant should have experience with the following technologies: Strong experience in SQL and database design. Expert knowledge in Microsoft Excel.', 'Collect and analyse data to support decision making in the business. Report collations, exceptions & variance analysis for Key Performance.', 'Should have experience in quality analyst. Total work: 1 year (Preferred).', 'To identify, design and develop data analytics routines to support the audit activities performed by the internal audit team. An eye to catch control gaps.', 'Executes day to day processing of transactions within defined standard. Operating procedures such as, e.g. general accounting and/or accounts.', 'Plans, schedules and monitors the movement of materials through the production cycle to determine materials purchases.', 'Create standard syndicated business research reports on several verticals as well as marketing & sales support content fulfilling defined scope & quality…', 'Work closely with business stakeholder, data analyst and data engineering team to perform data transformation. Design and develop Power BI reports.']\n"
     ]
    }
   ],
   "source": [
    "CompanySumamry = driver.find_elements(By.CSS_SELECTOR, \"div.job-snippet\")\n",
    "sum_Company = []\n",
    "for i in CompanySumamry:\n",
    "    i = i.text\n",
    "    i = i.replace('\\n', ' ')\n",
    "    sum_Company.append(i)\n",
    "print(sum_Company)"
   ]
  },
  {
   "cell_type": "code",
   "execution_count": 167,
   "id": "240dd693",
   "metadata": {},
   "outputs": [],
   "source": [
    "data = pd.DataFrame({'Role':pd.Series(name_Role), 'Company Name':pd.Series(name_Company), 'Company Rating':pd.Series(rat_Company), 'Company Location': pd.Series(loc_Company),'Job Summary':pd.Series(sum_Company)})"
   ]
  },
  {
   "cell_type": "code",
   "execution_count": 168,
   "id": "0e7c90c2",
   "metadata": {},
   "outputs": [
    {
     "data": {
      "text/html": [
       "<div>\n",
       "<style scoped>\n",
       "    .dataframe tbody tr th:only-of-type {\n",
       "        vertical-align: middle;\n",
       "    }\n",
       "\n",
       "    .dataframe tbody tr th {\n",
       "        vertical-align: top;\n",
       "    }\n",
       "\n",
       "    .dataframe thead th {\n",
       "        text-align: right;\n",
       "    }\n",
       "</style>\n",
       "<table border=\"1\" class=\"dataframe\">\n",
       "  <thead>\n",
       "    <tr style=\"text-align: right;\">\n",
       "      <th></th>\n",
       "      <th>Role</th>\n",
       "      <th>Company Name</th>\n",
       "      <th>Company Rating</th>\n",
       "      <th>Company Location</th>\n",
       "      <th>Job Summary</th>\n",
       "    </tr>\n",
       "  </thead>\n",
       "  <tbody>\n",
       "    <tr>\n",
       "      <th>0</th>\n",
       "      <td>Operations Analyst</td>\n",
       "      <td>Indeed</td>\n",
       "      <td>4.3</td>\n",
       "      <td>Hyderabad, Telangana</td>\n",
       "      <td>In this role as an Operations Analyst, you’ll ...</td>\n",
       "    </tr>\n",
       "    <tr>\n",
       "      <th>1</th>\n",
       "      <td>Operations Analyst - Lead</td>\n",
       "      <td>Indeed</td>\n",
       "      <td>4.3</td>\n",
       "      <td>Hyderabad, Telangana</td>\n",
       "      <td>In this role as an Operations Analyst Lead, yo...</td>\n",
       "    </tr>\n",
       "    <tr>\n",
       "      <th>2</th>\n",
       "      <td>Analyst</td>\n",
       "      <td>Infosys Limited</td>\n",
       "      <td>3.9</td>\n",
       "      <td>Bengaluru, Karnataka</td>\n",
       "      <td>A day in the life of an Infoscion • As part of...</td>\n",
       "    </tr>\n",
       "    <tr>\n",
       "      <th>3</th>\n",
       "      <td>Senior Data Analyst</td>\n",
       "      <td>Indeed</td>\n",
       "      <td>4.3</td>\n",
       "      <td>Bengaluru, Karnataka</td>\n",
       "      <td>Work on the development of the PropellerAds pr...</td>\n",
       "    </tr>\n",
       "    <tr>\n",
       "      <th>4</th>\n",
       "      <td>Senior Business Intelligence Analyst</td>\n",
       "      <td>Indeed</td>\n",
       "      <td>4.3</td>\n",
       "      <td>Hyderabad, Telangana</td>\n",
       "      <td>We expect you to aid various teams in drawing ...</td>\n",
       "    </tr>\n",
       "  </tbody>\n",
       "</table>\n",
       "</div>"
      ],
      "text/plain": [
       "                                   Role     Company Name Company Rating  \\\n",
       "0                    Operations Analyst           Indeed            4.3   \n",
       "1             Operations Analyst - Lead           Indeed            4.3   \n",
       "2                               Analyst  Infosys Limited            3.9   \n",
       "3                   Senior Data Analyst           Indeed            4.3   \n",
       "4  Senior Business Intelligence Analyst           Indeed            4.3   \n",
       "\n",
       "       Company Location                                        Job Summary  \n",
       "0  Hyderabad, Telangana  In this role as an Operations Analyst, you’ll ...  \n",
       "1  Hyderabad, Telangana  In this role as an Operations Analyst Lead, yo...  \n",
       "2  Bengaluru, Karnataka  A day in the life of an Infoscion • As part of...  \n",
       "3  Bengaluru, Karnataka  Work on the development of the PropellerAds pr...  \n",
       "4  Hyderabad, Telangana  We expect you to aid various teams in drawing ...  "
      ]
     },
     "execution_count": 168,
     "metadata": {},
     "output_type": "execute_result"
    }
   ],
   "source": [
    "data.head()"
   ]
  },
  {
   "cell_type": "code",
   "execution_count": 169,
   "id": "70b3e1fb",
   "metadata": {},
   "outputs": [],
   "source": [
    "data.to_csv(\"Indeed_scap.csv\")"
   ]
  },
  {
   "cell_type": "code",
   "execution_count": null,
   "id": "6701e74d",
   "metadata": {},
   "outputs": [],
   "source": []
  },
  {
   "cell_type": "code",
   "execution_count": 261,
   "id": "664c73ac",
   "metadata": {},
   "outputs": [
    {
     "name": "stderr",
     "output_type": "stream",
     "text": [
      "C:\\Users\\abhis\\AppData\\Local\\Temp/ipykernel_27272/1260610338.py:1: DeprecationWarning: executable_path has been deprecated, please pass in a Service object\n",
      "  driver = webdriver.Firefox(executable_path=r'C:\\Users\\abhis\\OneDrive\\Desktop\\scrapping_python\\linkedin_scarp\\geckodriver.exe')\n"
     ]
    }
   ],
   "source": [
    "driver = webdriver.Firefox(executable_path=r'C:\\Users\\abhis\\OneDrive\\Desktop\\scrapping_python\\linkedin_scarp\\geckodriver.exe')\n",
    "driver.get('https://in.indeed.com/companies?from=gnav-acme--acme-webapp')"
   ]
  },
  {
   "cell_type": "code",
   "execution_count": 262,
   "id": "66834f2f",
   "metadata": {},
   "outputs": [],
   "source": [
    "ser = driver.find_element(By.ID, 'ifl-InputFormField-3')\n",
    "ser.send_keys('honeywell')"
   ]
  },
  {
   "cell_type": "code",
   "execution_count": 263,
   "id": "29e8c2ff",
   "metadata": {},
   "outputs": [],
   "source": [
    "btn = driver.find_element(By.CLASS_NAME, 'css-wmdpsd.e8ju0x51')\n",
    "btn.click()"
   ]
  },
  {
   "cell_type": "code",
   "execution_count": 265,
   "id": "091465f5",
   "metadata": {},
   "outputs": [
    {
     "ename": "TypeError",
     "evalue": "'str' object is not callable",
     "output_type": "error",
     "traceback": [
      "\u001b[1;31m---------------------------------------------------------------------------\u001b[0m",
      "\u001b[1;31mTypeError\u001b[0m                                 Traceback (most recent call last)",
      "\u001b[1;32m~\\AppData\\Local\\Temp/ipykernel_27272/965028844.py\u001b[0m in \u001b[0;36m<module>\u001b[1;34m\u001b[0m\n\u001b[0;32m      1\u001b[0m \u001b[0mgetURL\u001b[0m \u001b[1;33m=\u001b[0m \u001b[0mdriver\u001b[0m\u001b[1;33m.\u001b[0m\u001b[0mfind_element\u001b[0m\u001b[1;33m(\u001b[0m\u001b[0mBy\u001b[0m\u001b[1;33m.\u001b[0m\u001b[0mCSS_SELECTOR\u001b[0m\u001b[1;33m,\u001b[0m \u001b[1;34m'a.css-p6v9z3.eu4oa1w0'\u001b[0m\u001b[1;33m)\u001b[0m\u001b[1;33m\u001b[0m\u001b[1;33m\u001b[0m\u001b[0m\n\u001b[1;32m----> 2\u001b[1;33m \u001b[0mreviewURL\u001b[0m \u001b[1;33m=\u001b[0m \u001b[0mstr\u001b[0m\u001b[1;33m(\u001b[0m\u001b[0mgetURL\u001b[0m\u001b[1;33m.\u001b[0m\u001b[0mget_attribute\u001b[0m\u001b[1;33m(\u001b[0m\u001b[1;34m'href'\u001b[0m\u001b[1;33m)\u001b[0m\u001b[1;33m)\u001b[0m\u001b[1;33m\u001b[0m\u001b[1;33m\u001b[0m\u001b[0m\n\u001b[0m",
      "\u001b[1;31mTypeError\u001b[0m: 'str' object is not callable"
     ]
    }
   ],
   "source": [
    "getURL = driver.find_element(By.CSS_SELECTOR, 'a.css-p6v9z3.eu4oa1w0')\n",
    "reviewURL = str(getURL.get_attribute('href'))"
   ]
  },
  {
   "cell_type": "code",
   "execution_count": 259,
   "id": "6ddec3ff",
   "metadata": {},
   "outputs": [],
   "source": [
    "driver.get(reviewURL)"
   ]
  },
  {
   "cell_type": "code",
   "execution_count": 256,
   "id": "00ffc71d",
   "metadata": {},
   "outputs": [],
   "source": [
    "majorRev = driver.find_elements(By.CSS_SELECTOR, 'span > span.css-82l4gy.eu4oa1w0')\n",
    "str1 = \"\"   \n",
    "for i in majorRev:\n",
    "    str1 += i.text + \"\\n\"\n",
    "\n",
    "with open('review.txt', 'a') as file:\n",
    "    file.write(str1)"
   ]
  },
  {
   "cell_type": "code",
   "execution_count": 257,
   "id": "9a19cf8c",
   "metadata": {},
   "outputs": [
    {
     "name": "stdout",
     "output_type": "stream",
     "text": [
      "['5.0', '4.0', '5.0', '5.0', '4.0', '3.0', '4.0', '3.0', '4.0', '5.0', '3.0', '5.0', '5.0', '5.0', '5.0', '4.0', '2.0', '3.0', '5.0', '5.0', '5.0']\n"
     ]
    }
   ],
   "source": [
    "rating_stars = driver.find_elements(By.CSS_SELECTOR, \"button.css-1c33izo.e1wnkr790\")\n",
    "rat_stars = []\n",
    "for i in rating_stars:\n",
    "    i = i.text\n",
    "    rat_stars.append(i)\n",
    "print(rat_stars)"
   ]
  },
  {
   "cell_type": "code",
   "execution_count": 258,
   "id": "0dcbfbf1",
   "metadata": {},
   "outputs": [],
   "source": [
    "# rating = driver.find_elements(By.CSS_SELECTOR, \"ul.css-f6o0mg.eu4oa1w0\")\n",
    "# rat_Company = []\n",
    "# for i in rating:\n",
    "#     i = i.text\n",
    "#     i = i.replace(\"\\n\", ' ')\n",
    "#     rat_Company.append(i)\n",
    "# print(rat_Company)"
   ]
  },
  {
   "cell_type": "code",
   "execution_count": 255,
   "id": "d792a12f",
   "metadata": {},
   "outputs": [],
   "source": [
    "str2 = \"\"\n",
    "for i in rat_stars:\n",
    "    str2 += i+\"\\n\"\n",
    "with open('review.txt', 'a') as file:\n",
    "    file.write(\"**********Company Review rating out of 5******************\")\n",
    "    file.write(str2)"
   ]
  },
  {
   "cell_type": "code",
   "execution_count": null,
   "id": "c4857b21",
   "metadata": {},
   "outputs": [],
   "source": [
    "\n",
    "    "
   ]
  }
 ],
 "metadata": {
  "kernelspec": {
   "display_name": "Python 3 (ipykernel)",
   "language": "python",
   "name": "python3"
  },
  "language_info": {
   "codemirror_mode": {
    "name": "ipython",
    "version": 3
   },
   "file_extension": ".py",
   "mimetype": "text/x-python",
   "name": "python",
   "nbconvert_exporter": "python",
   "pygments_lexer": "ipython3",
   "version": "3.9.7"
  }
 },
 "nbformat": 4,
 "nbformat_minor": 5
}
